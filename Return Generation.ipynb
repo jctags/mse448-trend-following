{
 "cells": [
  {
   "cell_type": "code",
   "execution_count": 1,
   "metadata": {
    "collapsed": true
   },
   "outputs": [],
   "source": [
    "import matplotlib.pyplot as plt\n",
    "import pandas as pd\n",
    "%matplotlib inline\n",
    "from sklearn.linear_model import LinearRegression\n",
    "import numpy as np\n",
    "from regression_model import RegressionModel\n",
    "import os"
   ]
  },
  {
   "cell_type": "code",
   "execution_count": 2,
   "metadata": {},
   "outputs": [],
   "source": [
    "def get_dataframe(filename):\n",
    "    df = pd.read_csv(filename)\n",
    "    df['Date'] = pd.to_datetime(df[\"Unnamed: 0\"], dayfirst=True)\n",
    "    df.drop([\"Unnamed: 0\"],axis='columns', inplace=True)\n",
    "    columns = list(df.columns)\n",
    "    numerics = [x for x in columns[2:-3] if 'Cross' not in x and x not in ['MACD','Settle_Price']]\n",
    "    for col in numerics:\n",
    "        df[col+'norm'] = df[col] / df['Settle_Price'] - 1\n",
    "    return df"
   ]
  },
  {
   "cell_type": "code",
   "execution_count": 3,
   "metadata": {
    "collapsed": true
   },
   "outputs": [],
   "source": [
    "def get_data_by_years(df, years, features, label):\n",
    "    ydf = df[df.Date.map(lambda x: x.year in years)]\n",
    "    return ydf[features].values, ydf[label].values"
   ]
  },
  {
   "cell_type": "code",
   "execution_count": 4,
   "metadata": {
    "collapsed": true
   },
   "outputs": [],
   "source": [
    "def get_data(df, data_start, valid_start, test_start, data_end, features, label):\n",
    "    data = {}\n",
    "    train_years = list(range(data_start,  valid_start))\n",
    "    valid_years = list(range(valid_start, test_start))\n",
    "    test_years  = list(range(test_start,  data_end))\n",
    "    data['Xtrain'], data['Ytrain'] = get_data_by_years(df, train_years, features, label)\n",
    "    data['Xvalid'], data['Yvalid'] = get_data_by_years(df, valid_years, features, label)\n",
    "    data['Xtest'],  data['Ytest']  = get_data_by_years(df, test_years,  features, label)\n",
    "    return data"
   ]
  },
  {
   "cell_type": "code",
   "execution_count": 5,
   "metadata": {
    "collapsed": true
   },
   "outputs": [],
   "source": [
    "features = ['MACD', 'Volume']\n",
    "label = 'Daily_Return'\n",
    "features_directory = 'data'\n",
    "data_start = 1990\n",
    "valid_start = 2010\n",
    "test_start = 2014\n",
    "data_end = 2018\n",
    "model_class = RegressionModel"
   ]
  },
  {
   "cell_type": "code",
   "execution_count": 6,
   "metadata": {
    "scrolled": true
   },
   "outputs": [],
   "source": [
    "for i, filename in enumerate(os.listdir(features_directory)):\n",
    "    df = get_dataframe(features_directory + '/' + filename)\n",
    "    data = get_data(df, data_start, valid_start, test_start, data_end, features, label)\n",
    "    model = model_class()\n",
    "    model.train(data['Xtrain'], data['Ytrain'])\n",
    "    output = {}\n",
    "    output['predicted_'+str(i)] = model.predict(data['Xtest'])\n",
    "    output['true_'+str(i)] = data['Ytest']\n",
    "returns_df = pd.DataFrame(output)"
   ]
  },
  {
   "cell_type": "code",
   "execution_count": 7,
   "metadata": {},
   "outputs": [
    {
     "name": "stdout",
     "output_type": "stream",
     "text": [
      "[0.00025468]\n",
      "[[6.48597348e-08]]\n",
      "[0.00022098]\n",
      "[[4.88335861e-08]]\n",
      "[0.00017235]\n",
      "[[2.9705766e-08]]\n",
      "[0.00016149]\n",
      "[[2.60776377e-08]]\n",
      "[0.00017975]\n",
      "[[3.23095593e-08]]\n"
     ]
    },
    {
     "data": {
      "text/plain": [
       "array([[0.99999996],\n",
       "       [0.99999996],\n",
       "       [0.99999995],\n",
       "       [0.99999995],\n",
       "       [0.99999996]])"
      ]
     },
     "execution_count": 7,
     "metadata": {},
     "output_type": "execute_result"
    }
   ],
   "source": [
    "from simple_portfolio import SimplePortfolio\n",
    "returns = np.array([0.01])\n",
    "optimizer = SimplePortfolio(1)\n",
    "#print(optimizer.optimize(returns, 1e-5))\n",
    "vals = returns_df[['predicted_0']].values[0:5,:]\n",
    "np.apply_along_axis(lambda x: optimizer.optimize(x, 1e-6), 1, vals)"
   ]
  },
  {
   "cell_type": "code",
   "execution_count": null,
   "metadata": {
    "collapsed": true
   },
   "outputs": [],
   "source": []
  }
 ],
 "metadata": {
  "anaconda-cloud": {},
  "kernelspec": {
   "display_name": "Python [default]",
   "language": "python",
   "name": "python2"
  },
  "language_info": {
   "codemirror_mode": {
    "name": "ipython",
    "version": 2
   },
   "file_extension": ".py",
   "mimetype": "text/x-python",
   "name": "python",
   "nbconvert_exporter": "python",
   "pygments_lexer": "ipython2",
   "version": "2.7.13"
  }
 },
 "nbformat": 4,
 "nbformat_minor": 2
}