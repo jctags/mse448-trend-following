{
 "cells": [
  {
   "cell_type": "code",
   "execution_count": 57,
   "metadata": {},
   "outputs": [],
   "source": [
    "import matplotlib.pyplot as plt\n",
    "import pandas as pd\n",
    "%matplotlib inline\n",
    "from sklearn.linear_model import LinearRegression\n",
    "import numpy as np\n",
    "from regression_model import RegressionModel\n",
    "import tensorflow as tf\n",
    "from tensorflow import keras\n",
    "from keras import Sequential\n",
    "from keras.layers import Dense, LSTM\n",
    "from LSTM_model import LSTMModel\n",
    "import os\n",
    "import re"
   ]
  },
  {
   "cell_type": "code",
   "execution_count": 58,
   "metadata": {
    "scrolled": true
   },
   "outputs": [],
   "source": [
    "def get_dataframe(filename):\n",
    "    df = pd.read_csv(filename)\n",
    "    df['Date'] = pd.to_datetime(df[\"Unnamed: 0\"], dayfirst=True)\n",
    "    df.drop([\"Unnamed: 0\"],axis='columns', inplace=True)\n",
    "    columns = list(df.columns)\n",
    "    numerics = [x for x in columns[2:-3] if 'Cross' not in x and x not in ['MACD','Settle_Price']]\n",
    "    for col in numerics:\n",
    "        df[col+'norm'] = df[col] / df['Settle_Price'] - 1\n",
    "    return df"
   ]
  },
  {
   "cell_type": "code",
   "execution_count": 59,
   "metadata": {},
   "outputs": [],
   "source": [
    "def get_data_by_years(df, years, features, label):\n",
    "    ydf = df[df.Date.map(lambda x: x.year in years)]\n",
    "    return ydf[features], ydf[label]"
   ]
  },
  {
   "cell_type": "code",
   "execution_count": 60,
   "metadata": {},
   "outputs": [],
   "source": [
    "def get_data(df, data_start, valid_start, test_start, data_end, features, label):\n",
    "    data = {}\n",
    "    train_years = list(range(data_start,  valid_start))\n",
    "    valid_years = list(range(valid_start, test_start))\n",
    "    test_years  = list(range(test_start,  data_end))\n",
    "    data['Xtrain'], data['Ytrain'] = get_data_by_years(df, train_years, features, label)\n",
    "    data['Xvalid'], data['Yvalid'] = get_data_by_years(df, valid_years, features, label)\n",
    "    data['Xtest'],  data['Ytest']  = get_data_by_years(df, test_years,  features, label)\n",
    "    return data"
   ]
  },
  {
   "cell_type": "code",
   "execution_count": 61,
   "metadata": {},
   "outputs": [],
   "source": [
    "features = ['MACD', 'Volume']\n",
    "label = 'Daily_Return'\n",
    "features_directory = 'data'\n",
    "data_start = 1990\n",
    "valid_start = 2010\n",
    "test_start = 2014\n",
    "data_end = 2018"
   ]
  },
  {
   "cell_type": "code",
   "execution_count": 62,
   "metadata": {
    "scrolled": true
   },
   "outputs": [
    {
     "name": "stdout",
     "output_type": "stream",
     "text": [
      "Copper_2.csv\n"
     ]
    },
    {
     "ename": "NameError",
     "evalue": "name 'model' is not defined",
     "output_type": "error",
     "traceback": [
      "\u001b[0;31m---------------------------------------------------------------------------\u001b[0m",
      "\u001b[0;31mNameError\u001b[0m                                 Traceback (most recent call last)",
      "\u001b[0;32m<ipython-input-62-f3e085678e0a>\u001b[0m in \u001b[0;36m<module>\u001b[0;34m\u001b[0m\n\u001b[1;32m      7\u001b[0m         \u001b[0mY\u001b[0m \u001b[0;34m=\u001b[0m \u001b[0mdata\u001b[0m\u001b[0;34m[\u001b[0m\u001b[0;34m'Ytrain'\u001b[0m\u001b[0;34m]\u001b[0m\u001b[0;34m\u001b[0m\u001b[0;34m\u001b[0m\u001b[0m\n\u001b[1;32m      8\u001b[0m         \u001b[0mmodel\u001b[0m \u001b[0;34m=\u001b[0m \u001b[0mLSTMModel\u001b[0m\u001b[0;34m(\u001b[0m\u001b[0;34m)\u001b[0m\u001b[0;34m\u001b[0m\u001b[0;34m\u001b[0m\u001b[0m\n\u001b[0;32m----> 9\u001b[0;31m         \u001b[0mmodel\u001b[0m\u001b[0;34m.\u001b[0m\u001b[0mtrain\u001b[0m\u001b[0;34m(\u001b[0m\u001b[0mX\u001b[0m\u001b[0;34m,\u001b[0m \u001b[0mY\u001b[0m\u001b[0;34m)\u001b[0m\u001b[0;34m\u001b[0m\u001b[0;34m\u001b[0m\u001b[0m\n\u001b[0m\u001b[1;32m     10\u001b[0m         \u001b[0moutput\u001b[0m \u001b[0;34m=\u001b[0m \u001b[0;34m{\u001b[0m\u001b[0;34m}\u001b[0m\u001b[0;34m\u001b[0m\u001b[0;34m\u001b[0m\u001b[0m\n\u001b[1;32m     11\u001b[0m         \u001b[0moutput\u001b[0m\u001b[0;34m[\u001b[0m\u001b[0;34m'predicted_'\u001b[0m\u001b[0;34m+\u001b[0m\u001b[0mstr\u001b[0m\u001b[0;34m(\u001b[0m\u001b[0mi\u001b[0m\u001b[0;34m)\u001b[0m\u001b[0;34m]\u001b[0m \u001b[0;34m=\u001b[0m \u001b[0mmodel\u001b[0m\u001b[0;34m.\u001b[0m\u001b[0mpredict\u001b[0m\u001b[0;34m(\u001b[0m\u001b[0mdata\u001b[0m\u001b[0;34m[\u001b[0m\u001b[0;34m'Xtest'\u001b[0m\u001b[0;34m]\u001b[0m\u001b[0;34m)\u001b[0m\u001b[0;34m\u001b[0m\u001b[0;34m\u001b[0m\u001b[0m\n",
      "\u001b[0;32m~/Desktop/Project/mse448-trend-following/LSTM_model.py\u001b[0m in \u001b[0;36mtrain\u001b[0;34m(self, X, Y)\u001b[0m\n",
      "\u001b[0;31mNameError\u001b[0m: name 'model' is not defined"
     ]
    }
   ],
   "source": [
    "for i, filename in enumerate(os.listdir(features_directory)):\n",
    "    if not re.match(filename, \".DS_Store\"):\n",
    "        df = get_dataframe(features_directory + '/' + filename)\n",
    "        data = get_data(df, data_start, valid_start, test_start, data_end, features, label)\n",
    "        print(filename)\n",
    "        X = data['Xtrain']\n",
    "        Y = data['Ytrain']\n",
    "        model = LSTMModel()\n",
    "        model.train(X, Y)\n",
    "        output = {}\n",
    "        output['predicted_'+str(i)] = model.predict(data['Xtest'])\n",
    "        output['true_'+str(i)] = data['Ytest']\n",
    "returns_df = pd.DataFrame(output)"
   ]
  },
  {
   "cell_type": "code",
   "execution_count": null,
   "metadata": {},
   "outputs": [],
   "source": [
    "trainsplit = int(len(Y) * 0.9)\n",
    "validsplit = trainsplit #+ int(len(Y) * 0.1)\n",
    "Xtrain = X[:trainsplit]\n",
    "Ytrain = Y[:trainsplit]\n",
    "Xvalid = X[trainsplit:validsplit]\n",
    "Yvalid = Y[trainsplit:validsplit]\n",
    "Xtest = X[validsplit:]\n",
    "Ytest = Y[validsplit:]"
   ]
  },
  {
   "cell_type": "code",
   "execution_count": 33,
   "metadata": {},
   "outputs": [
    {
     "data": {
      "text/plain": [
       "array([-0.0103317 , -0.01318681, -0.00612472, ..., -0.00074349,\n",
       "       -0.01388889,  0.00385647])"
      ]
     },
     "execution_count": 33,
     "metadata": {},
     "output_type": "execute_result"
    }
   ],
   "source": [
    "Ytrain.values"
   ]
  },
  {
   "cell_type": "code",
   "execution_count": 8,
   "metadata": {},
   "outputs": [],
   "source": [
    "model = RegressionModel()\n",
    "model.train(Xtrain, Ytrain)"
   ]
  },
  {
   "cell_type": "code",
   "execution_count": 9,
   "metadata": {},
   "outputs": [
    {
     "name": "stdout",
     "output_type": "stream",
     "text": [
      "[0.00025468]\n",
      "[[6.48597348e-08]]\n",
      "[0.00022098]\n",
      "[[4.88335861e-08]]\n",
      "[0.00017235]\n",
      "[[2.9705766e-08]]\n",
      "[0.00016149]\n",
      "[[2.60776377e-08]]\n",
      "[0.00017975]\n",
      "[[3.23095593e-08]]\n"
     ]
    },
    {
     "data": {
      "image/png": "[encoded data removed]",
      "text/plain": [
       "<Figure size 432x288 with 1 Axes>"
      ]
     },
     "metadata": {
      "needs_background": "light"
     },
     "output_type": "display_data"
    }
   ],
   "source": [
    "predicted_returns = model.predict(Xtest)\n",
    "plt.plot(Ytest, predicted_returns, 'k.')\n",
    "plt.title(\"Prediction accuracy\")\n",
    "plt.xlabel(\"True returns\")\n",
    "plt.ylabel(\"Predicted returns\")"
   ]
  },
  {
   "cell_type": "code",
   "execution_count": 10,
   "metadata": {},
   "outputs": [],
   "source": [
    "strongest_signal = np.max(predicted_returns)\n",
    "Ytest = Ytest.values"
   ]
  },
  {
   "cell_type": "code",
   "execution_count": 11,
   "metadata": {},
   "outputs": [],
   "source": [
    "# Long Only Portfolio\n",
    "portfolio_weight = 1.0\n",
    "portfolio_over_time = [1.0]\n",
    "returns = []\n",
    "max_bet_pct = 1.0 # Percent of holdings to risk on the best bet\n",
    "for t in range(len(predicted_returns)):\n",
    "    r_pred = predicted_returns[t]\n",
    "    r_true = Ytest[t]\n",
    "    if r_pred < 0:\n",
    "        portfolio_over_time.append(portfolio_weight)\n",
    "        returns.append(0.0)\n",
    "        continue\n",
    "        \n",
    "    bet_size_pct = max_bet_pct * r_pred / strongest_signal\n",
    "    bet_size_portfolio = portfolio_weight * bet_size_pct\n",
    "    portfolio_weight = portfolio_weight + bet_size_portfolio * r_true\n",
    "    portfolio_over_time.append(portfolio_weight)\n",
    "    returns.append(r_true * bet_size_portfolio / portfolio_weight)"
   ]
  },
  {
   "cell_type": "code",
   "execution_count": 12,
   "metadata": {},
   "outputs": [
    {
     "data": {
      "text/plain": [
       "1.0092778505269269"
      ]
     },
     "execution_count": 12,
     "metadata": {},
     "output_type": "execute_result"
    }
   ],
   "source": [
    "portfolio_weight"
   ]
  },
  {
   "cell_type": "code",
   "execution_count": 13,
   "metadata": {},
   "outputs": [
    {
     "data": {
      "text/plain": [
       "Text(0,0.5,'Current:Original Holdings Ratio')"
      ]
     },
     "execution_count": 13,
     "metadata": {},
     "output_type": "execute_result"
    },
    {
     "data": {
      "image/png": "[encoded data removed]",
      "text/plain": [
       "<Figure size 432x288 with 1 Axes>"
      ]
     },
     "metadata": {
      "needs_background": "light"
     },
     "output_type": "display_data"
    }
   ],
   "source": [
    "plt.plot(portfolio_over_time)\n",
    "plt.xlabel(\"Timestep\")\n",
    "plt.ylabel(\"Current:Original Holdings Ratio\")"
   ]
  },
  {
   "cell_type": "code",
   "execution_count": 14,
   "metadata": {},
   "outputs": [
    {
     "data": {
      "text/plain": [
       "(array([  1.,   2.,   0.,   4.,   3.,   4.,  16.,  38.,  79., 677., 168.,\n",
       "         58.,  21.,  12.,   7.,   3.,   2.,   0.,   2.,   0.,   0.,   0.,\n",
       "          0.,   0.,   0.,   0.,   0.,   0.,   0.,   1.]),\n",
       " array([-0.01409475, -0.01265764, -0.01122053, -0.00978341, -0.0083463 ,\n",
       "        -0.00690919, -0.00547207, -0.00403496, -0.00259785, -0.00116073,\n",
       "         0.00027638,  0.0017135 ,  0.00315061,  0.00458772,  0.00602484,\n",
       "         0.00746195,  0.00889906,  0.01033618,  0.01177329,  0.0132104 ,\n",
       "         0.01464752,  0.01608463,  0.01752175,  0.01895886,  0.02039597,\n",
       "         0.02183309,  0.0232702 ,  0.02470731,  0.02614443,  0.02758154,\n",
       "         0.02901865]),\n",
       " <a list of 30 Patch objects>)"
      ]
     },
     "execution_count": 14,
     "metadata": {},
     "output_type": "execute_result"
    },
    {
     "data": {
      "image/png": "[encoded data removed]",
      "text/plain": [
       "<Figure size 432x288 with 1 Axes>"
      ]
     },
     "metadata": {
      "needs_background": "light"
     },
     "output_type": "display_data"
    }
   ],
   "source": [
    "plt.hist(returns, bins=30)"
   ]
  },
  {
   "cell_type": "code",
   "execution_count": 15,
   "metadata": {},
   "outputs": [
    {
     "data": {
      "text/plain": [
       "array([[0.99999996],\n",
       "       [0.99999996],\n",
       "       [0.99999995],\n",
       "       [0.99999995],\n",
       "       [0.99999996]])"
      ]
     },
     "execution_count": 15,
     "metadata": {},
     "output_type": "execute_result"
    }
   ],
   "source": [
    "from simple_portfolio import SimplePortfolio\n",
    "returns = np.array([0.01])\n",
    "optimizer = SimplePortfolio(1)\n",
    "#print(optimizer.optimize(returns, 1e-5))\n",
    "vals = returns_df[['predicted_0']].values[0:5,:]\n",
    "np.apply_along_axis(lambda x: optimizer.optimize(x, 1e-6), 1, vals)"
   ]
  },
  {
   "cell_type": "code",
   "execution_count": null,
   "metadata": {},
   "outputs": [],
   "source": []
  },
  {
   "cell_type": "code",
   "execution_count": null,
   "metadata": {},
   "outputs": [],
   "source": []
  }
 ],
 "metadata": {
  "anaconda-cloud": {},
  "kernelspec": {
   "display_name": "Python 3",
   "language": "python",
   "name": "python3"
  },
  "language_info": {
   "codemirror_mode": {
    "name": "ipython",
    "version": 3
   },
   "file_extension": ".py",
   "mimetype": "text/x-python",
   "name": "python",
   "nbconvert_exporter": "python",
   "pygments_lexer": "ipython3",
   "version": "3.7.3"
  }
 },
 "nbformat": 4,
 "nbformat_minor": 2
}
