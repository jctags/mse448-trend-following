{
 "cells": [
  {
   "cell_type": "code",
   "execution_count": 1,
   "metadata": {
    "collapsed": true
   },
   "outputs": [],
   "source": [
    "import matplotlib.pyplot as plt\n",
    "import pandas as pd\n",
    "%matplotlib inline\n",
    "from sklearn.linear_model import LinearRegression\n",
    "import numpy as np\n",
    "from regression_model import RegressionModel"
   ]
  },
  {
   "cell_type": "code",
   "execution_count": 2,
   "metadata": {
    "collapsed": false,
    "scrolled": true
   },
   "outputs": [
    {
     "data": {
      "text/html": [
       "<div>\n",
       "<style scoped>\n",
       "    .dataframe tbody tr th:only-of-type {\n",
       "        vertical-align: middle;\n",
       "    }\n",
       "\n",
       "    .dataframe tbody tr th {\n",
       "        vertical-align: top;\n",
       "    }\n",
       "\n",
       "    .dataframe thead th {\n",
       "        text-align: right;\n",
       "    }\n",
       "</style>\n",
       "<table border=\"1\" class=\"dataframe\">\n",
       "  <thead>\n",
       "    <tr style=\"text-align: right;\">\n",
       "      <th></th>\n",
       "      <th>Unnamed: 0</th>\n",
       "      <th>Daily_Return</th>\n",
       "      <th>EMA10</th>\n",
       "      <th>EMA100</th>\n",
       "      <th>EMA100Cross</th>\n",
       "      <th>EMA10Cross</th>\n",
       "      <th>EMA12</th>\n",
       "      <th>EMA12Cross</th>\n",
       "      <th>EMA20</th>\n",
       "      <th>EMA20Cross</th>\n",
       "      <th>...</th>\n",
       "      <th>SMA15Cross</th>\n",
       "      <th>SMA20</th>\n",
       "      <th>SMA20Cross</th>\n",
       "      <th>SMA5</th>\n",
       "      <th>SMA50</th>\n",
       "      <th>SMA50Cross</th>\n",
       "      <th>SMA5Cross</th>\n",
       "      <th>Settle_Price</th>\n",
       "      <th>Time</th>\n",
       "      <th>Volume</th>\n",
       "    </tr>\n",
       "  </thead>\n",
       "  <tbody>\n",
       "    <tr>\n",
       "      <th>10972</th>\n",
       "      <td>12/4/2019</td>\n",
       "      <td>-0.003046</td>\n",
       "      <td>1318.427611</td>\n",
       "      <td>1308.988215</td>\n",
       "      <td>0</td>\n",
       "      <td>0</td>\n",
       "      <td>1318.710813</td>\n",
       "      <td>0</td>\n",
       "      <td>1319.847607</td>\n",
       "      <td>0</td>\n",
       "      <td>...</td>\n",
       "      <td>0</td>\n",
       "      <td>1321.430</td>\n",
       "      <td>0</td>\n",
       "      <td>1320.62</td>\n",
       "      <td>1327.696</td>\n",
       "      <td>0</td>\n",
       "      <td>0</td>\n",
       "      <td>1313.4</td>\n",
       "      <td>11073</td>\n",
       "      <td>2352</td>\n",
       "    </tr>\n",
       "    <tr>\n",
       "      <th>10973</th>\n",
       "      <td>15/4/2019</td>\n",
       "      <td>-0.010845</td>\n",
       "      <td>1316.786228</td>\n",
       "      <td>1308.996369</td>\n",
       "      <td>0</td>\n",
       "      <td>0</td>\n",
       "      <td>1317.278380</td>\n",
       "      <td>0</td>\n",
       "      <td>1318.852597</td>\n",
       "      <td>0</td>\n",
       "      <td>...</td>\n",
       "      <td>0</td>\n",
       "      <td>1321.050</td>\n",
       "      <td>0</td>\n",
       "      <td>1320.56</td>\n",
       "      <td>1327.086</td>\n",
       "      <td>0</td>\n",
       "      <td>0</td>\n",
       "      <td>1309.4</td>\n",
       "      <td>11074</td>\n",
       "      <td>2647</td>\n",
       "    </tr>\n",
       "    <tr>\n",
       "      <th>10974</th>\n",
       "      <td>16/4/2019</td>\n",
       "      <td>-0.000386</td>\n",
       "      <td>1312.861459</td>\n",
       "      <td>1308.723174</td>\n",
       "      <td>1</td>\n",
       "      <td>0</td>\n",
       "      <td>1313.881706</td>\n",
       "      <td>0</td>\n",
       "      <td>1316.599969</td>\n",
       "      <td>0</td>\n",
       "      <td>...</td>\n",
       "      <td>0</td>\n",
       "      <td>1320.535</td>\n",
       "      <td>0</td>\n",
       "      <td>1318.46</td>\n",
       "      <td>1326.456</td>\n",
       "      <td>0</td>\n",
       "      <td>0</td>\n",
       "      <td>1295.2</td>\n",
       "      <td>11075</td>\n",
       "      <td>2819</td>\n",
       "    </tr>\n",
       "    <tr>\n",
       "      <th>10975</th>\n",
       "      <td>17/4/2019</td>\n",
       "      <td>-0.000463</td>\n",
       "      <td>1309.559375</td>\n",
       "      <td>1308.445487</td>\n",
       "      <td>0</td>\n",
       "      <td>0</td>\n",
       "      <td>1310.930675</td>\n",
       "      <td>0</td>\n",
       "      <td>1314.514257</td>\n",
       "      <td>0</td>\n",
       "      <td>...</td>\n",
       "      <td>0</td>\n",
       "      <td>1319.050</td>\n",
       "      <td>0</td>\n",
       "      <td>1312.24</td>\n",
       "      <td>1325.596</td>\n",
       "      <td>0</td>\n",
       "      <td>0</td>\n",
       "      <td>1294.7</td>\n",
       "      <td>11076</td>\n",
       "      <td>1677</td>\n",
       "    </tr>\n",
       "    <tr>\n",
       "      <th>10976</th>\n",
       "      <td>18/4/2019</td>\n",
       "      <td>0.000000</td>\n",
       "      <td>1306.748580</td>\n",
       "      <td>1308.161418</td>\n",
       "      <td>0</td>\n",
       "      <td>0</td>\n",
       "      <td>1308.341340</td>\n",
       "      <td>0</td>\n",
       "      <td>1312.570042</td>\n",
       "      <td>0</td>\n",
       "      <td>...</td>\n",
       "      <td>0</td>\n",
       "      <td>1317.795</td>\n",
       "      <td>0</td>\n",
       "      <td>1304.80</td>\n",
       "      <td>1324.724</td>\n",
       "      <td>0</td>\n",
       "      <td>0</td>\n",
       "      <td>1294.1</td>\n",
       "      <td>11077</td>\n",
       "      <td>1130</td>\n",
       "    </tr>\n",
       "  </tbody>\n",
       "</table>\n",
       "<p>5 rows × 31 columns</p>\n",
       "</div>"
      ],
      "text/plain": [
       "      Unnamed: 0  Daily_Return        EMA10       EMA100  EMA100Cross  \\\n",
       "10972  12/4/2019     -0.003046  1318.427611  1308.988215            0   \n",
       "10973  15/4/2019     -0.010845  1316.786228  1308.996369            0   \n",
       "10974  16/4/2019     -0.000386  1312.861459  1308.723174            1   \n",
       "10975  17/4/2019     -0.000463  1309.559375  1308.445487            0   \n",
       "10976  18/4/2019      0.000000  1306.748580  1308.161418            0   \n",
       "\n",
       "       EMA10Cross        EMA12  EMA12Cross        EMA20  EMA20Cross  ...  \\\n",
       "10972           0  1318.710813           0  1319.847607           0  ...   \n",
       "10973           0  1317.278380           0  1318.852597           0  ...   \n",
       "10974           0  1313.881706           0  1316.599969           0  ...   \n",
       "10975           0  1310.930675           0  1314.514257           0  ...   \n",
       "10976           0  1308.341340           0  1312.570042           0  ...   \n",
       "\n",
       "       SMA15Cross     SMA20  SMA20Cross     SMA5     SMA50  SMA50Cross  \\\n",
       "10972           0  1321.430           0  1320.62  1327.696           0   \n",
       "10973           0  1321.050           0  1320.56  1327.086           0   \n",
       "10974           0  1320.535           0  1318.46  1326.456           0   \n",
       "10975           0  1319.050           0  1312.24  1325.596           0   \n",
       "10976           0  1317.795           0  1304.80  1324.724           0   \n",
       "\n",
       "       SMA5Cross  Settle_Price   Time  Volume  \n",
       "10972          0        1313.4  11073    2352  \n",
       "10973          0        1309.4  11074    2647  \n",
       "10974          0        1295.2  11075    2819  \n",
       "10975          0        1294.7  11076    1677  \n",
       "10976          0        1294.1  11077    1130  \n",
       "\n",
       "[5 rows x 31 columns]"
      ]
     },
     "execution_count": 2,
     "metadata": {},
     "output_type": "execute_result"
    }
   ],
   "source": [
    "df = pd.read_csv('data/Gold.csv')\n",
    "df.tail()"
   ]
  },
  {
   "cell_type": "code",
   "execution_count": 3,
   "metadata": {
    "collapsed": true
   },
   "outputs": [],
   "source": [
    "columns = list(df.columns)\n",
    "numerics = [x for x in columns[2:-3] if 'Cross' not in x and x != 'MACD']"
   ]
  },
  {
   "cell_type": "code",
   "execution_count": 4,
   "metadata": {
    "collapsed": true
   },
   "outputs": [],
   "source": [
    "for col in numerics:\n",
    "    df[col+'norm'] = df[col] / df['Settle_Price'] - 1"
   ]
  },
  {
   "cell_type": "code",
   "execution_count": 5,
   "metadata": {
    "collapsed": true
   },
   "outputs": [],
   "source": [
    "columns = list(df.columns)\n",
    "features = [col for col in columns if 'norm' in col]"
   ]
  },
  {
   "cell_type": "code",
   "execution_count": 6,
   "metadata": {
    "collapsed": true
   },
   "outputs": [],
   "source": [
    "X = df[features]\n",
    "Y = df['Daily_Return']"
   ]
  },
  {
   "cell_type": "code",
   "execution_count": 7,
   "metadata": {
    "collapsed": true
   },
   "outputs": [],
   "source": [
    "trainsplit = int(len(Y) * 0.9)\n",
    "validsplit = trainsplit #+ int(len(Y) * 0.1)\n",
    "Xtrain = X[:trainsplit]\n",
    "Ytrain = Y[:trainsplit]\n",
    "Xvalid = X[trainsplit:validsplit]\n",
    "Yvalid = Y[trainsplit:validsplit]\n",
    "Xtest = X[validsplit:]\n",
    "Ytest = Y[validsplit:]"
   ]
  },
  {
   "cell_type": "code",
   "execution_count": 8,
   "metadata": {
    "collapsed": true
   },
   "outputs": [],
   "source": [
    "model = RegressionModel()\n",
    "model.train(Xtrain, Ytrain)"
   ]
  },
  {
   "cell_type": "code",
   "execution_count": 9,
   "metadata": {
    "collapsed": false
   },
   "outputs": [
    {
     "data": {
      "text/plain": [
       "Text(0,0.5,'Predicted returns')"
      ]
     },
     "execution_count": 9,
     "metadata": {},
     "output_type": "execute_result"
    },
    {
     "data": {
      "image/png": "[encoded data removed]",
      "text/plain": [
       "<Figure size 432x288 with 1 Axes>"
      ]
     },
     "metadata": {
      "needs_background": "light"
     },
     "output_type": "display_data"
    }
   ],
   "source": [
    "predicted_returns = model.predict(Xtest)\n",
    "plt.plot(Ytest, predicted_returns, 'k.')\n",
    "plt.title(\"Prediction accuracy\")\n",
    "plt.xlabel(\"True returns\")\n",
    "plt.ylabel(\"Predicted returns\")"
   ]
  },
  {
   "cell_type": "code",
   "execution_count": 12,
   "metadata": {
    "collapsed": true
   },
   "outputs": [],
   "source": [
    "strongest_signal = np.max(predicted_returns)\n",
    "Ytest = Ytest.values"
   ]
  },
  {
   "cell_type": "code",
   "execution_count": 13,
   "metadata": {
    "collapsed": true
   },
   "outputs": [],
   "source": [
    "# Long Only Portfolio\n",
    "portfolio_weight = 1.0\n",
    "portfolio_over_time = [1.0]\n",
    "returns = []\n",
    "max_bet_pct = 1.0 # Percent of holdings to risk on the best bet\n",
    "for t in range(len(predicted_returns)):\n",
    "    r_pred = predicted_returns[t]\n",
    "    r_true = Ytest[t]\n",
    "    if r_pred < 0:\n",
    "        portfolio_over_time.append(portfolio_weight)\n",
    "        returns.append(0.0)\n",
    "        continue\n",
    "        \n",
    "    bet_size_pct = max_bet_pct * r_pred / strongest_signal\n",
    "    bet_size_portfolio = portfolio_weight * bet_size_pct\n",
    "    portfolio_weight = portfolio_weight + bet_size_portfolio * r_true\n",
    "    portfolio_over_time.append(portfolio_weight)\n",
    "    returns.append(r_true * bet_size_portfolio / portfolio_weight)"
   ]
  },
  {
   "cell_type": "code",
   "execution_count": 14,
   "metadata": {
    "collapsed": false
   },
   "outputs": [
    {
     "data": {
      "text/plain": [
       "1.0092778505269302"
      ]
     },
     "execution_count": 14,
     "metadata": {},
     "output_type": "execute_result"
    }
   ],
   "source": [
    "portfolio_weight"
   ]
  },
  {
   "cell_type": "code",
   "execution_count": 15,
   "metadata": {
    "collapsed": false
   },
   "outputs": [
    {
     "data": {
      "text/plain": [
       "Text(0,0.5,'Current:Original Holdings Ratio')"
      ]
     },
     "execution_count": 15,
     "metadata": {},
     "output_type": "execute_result"
    },
    {
     "data": {
      "image/png": "[encoded data removed]",
      "text/plain": [
       "<Figure size 432x288 with 1 Axes>"
      ]
     },
     "metadata": {
      "needs_background": "light"
     },
     "output_type": "display_data"
    }
   ],
   "source": [
    "plt.plot(portfolio_over_time)\n",
    "plt.xlabel(\"Timestep\")\n",
    "plt.ylabel(\"Current:Original Holdings Ratio\")"
   ]
  },
  {
   "cell_type": "code",
   "execution_count": 16,
   "metadata": {
    "collapsed": false
   },
   "outputs": [
    {
     "data": {
      "text/plain": [
       "(array([  1.,   2.,   0.,   4.,   3.,   4.,  16.,  38.,  79., 677., 168.,\n",
       "         58.,  21.,  12.,   7.,   3.,   2.,   0.,   2.,   0.,   0.,   0.,\n",
       "          0.,   0.,   0.,   0.,   0.,   0.,   0.,   1.]),\n",
       " array([-0.01409475, -0.01265764, -0.01122053, -0.00978341, -0.0083463 ,\n",
       "        -0.00690919, -0.00547207, -0.00403496, -0.00259785, -0.00116073,\n",
       "         0.00027638,  0.0017135 ,  0.00315061,  0.00458772,  0.00602484,\n",
       "         0.00746195,  0.00889906,  0.01033618,  0.01177329,  0.0132104 ,\n",
       "         0.01464752,  0.01608463,  0.01752175,  0.01895886,  0.02039597,\n",
       "         0.02183309,  0.0232702 ,  0.02470731,  0.02614443,  0.02758154,\n",
       "         0.02901865]),\n",
       " <a list of 30 Patch objects>)"
      ]
     },
     "execution_count": 16,
     "metadata": {},
     "output_type": "execute_result"
    },
    {
     "data": {
      "image/png": "[encoded data removed]",
      "text/plain": [
       "<Figure size 432x288 with 1 Axes>"
      ]
     },
     "metadata": {
      "needs_background": "light"
     },
     "output_type": "display_data"
    }
   ],
   "source": [
    "plt.hist(returns, bins=30)"
   ]
  },
  {
   "cell_type": "code",
   "execution_count": 17,
   "metadata": {
    "collapsed": false
   },
   "outputs": [
    {
     "data": {
      "text/plain": [
       "1.0807582745101103"
      ]
     },
     "execution_count": 17,
     "metadata": {},
     "output_type": "execute_result"
    }
   ],
   "source": [
    "output = 1.0\n",
    "for y in Ytest:\n",
    "    output *= (1.0 + y)\n",
    "output"
   ]
  },
  {
   "cell_type": "code",
   "execution_count": null,
   "metadata": {
    "collapsed": true
   },
   "outputs": [],
   "source": []
  }
 ],
 "metadata": {
  "anaconda-cloud": {},
  "kernelspec": {
   "display_name": "Python [default]",
   "language": "python",
   "name": "python2"
  },
  "language_info": {
   "codemirror_mode": {
    "name": "ipython",
    "version": 2
   },
   "file_extension": ".py",
   "mimetype": "text/x-python",
   "name": "python",
   "nbconvert_exporter": "python",
   "pygments_lexer": "ipython2",
   "version": "2.7.13"
  }
 },
 "nbformat": 4,
 "nbformat_minor": 2
}
